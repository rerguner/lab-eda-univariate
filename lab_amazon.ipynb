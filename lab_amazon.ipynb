{
 "cells": [
  {
   "cell_type": "code",
   "execution_count": 2,
   "id": "e626b0d7",
   "metadata": {},
   "outputs": [],
   "source": [
    "import pandas as pd\n",
    "import matplotlib.pyplot as plt\n",
    "import seaborn as sns\n",
    "import numpy as np\n"
   ]
  },
  {
   "cell_type": "code",
   "execution_count": 18,
   "id": "345aae6e",
   "metadata": {},
   "outputs": [],
   "source": [
    "pd.options.display.max_columns = 999"
   ]
  },
  {
   "cell_type": "code",
   "execution_count": 3,
   "id": "4e5e79dd",
   "metadata": {},
   "outputs": [],
   "source": [
    "url = r\"C:\\Users\\rergu\\OneDrive\\IronHack\\datasets\\amz_uk_price_prediction_dataset.csv\"\n",
    "df = pd.read_csv(url)"
   ]
  },
  {
   "cell_type": "code",
   "execution_count": 14,
   "id": "4d62c5e6",
   "metadata": {},
   "outputs": [
    {
     "data": {
      "text/html": [
       "<div>\n",
       "<style scoped>\n",
       "    .dataframe tbody tr th:only-of-type {\n",
       "        vertical-align: middle;\n",
       "    }\n",
       "\n",
       "    .dataframe tbody tr th {\n",
       "        vertical-align: top;\n",
       "    }\n",
       "\n",
       "    .dataframe thead th {\n",
       "        text-align: right;\n",
       "    }\n",
       "</style>\n",
       "<table border=\"1\" class=\"dataframe\">\n",
       "  <thead>\n",
       "    <tr style=\"text-align: right;\">\n",
       "      <th></th>\n",
       "      <th>uid</th>\n",
       "      <th>asin</th>\n",
       "      <th>title</th>\n",
       "      <th>stars</th>\n",
       "      <th>reviews</th>\n",
       "      <th>price</th>\n",
       "      <th>isBestSeller</th>\n",
       "      <th>boughtInLastMonth</th>\n",
       "      <th>category</th>\n",
       "    </tr>\n",
       "  </thead>\n",
       "  <tbody>\n",
       "    <tr>\n",
       "      <th>994977</th>\n",
       "      <td>1101184</td>\n",
       "      <td>B0C2J61LSG</td>\n",
       "      <td>What if i fall? Oh, but my darling, what if yo...</td>\n",
       "      <td>5.0</td>\n",
       "      <td>1</td>\n",
       "      <td>10.99</td>\n",
       "      <td>False</td>\n",
       "      <td>0</td>\n",
       "      <td>Handmade Artwork</td>\n",
       "    </tr>\n",
       "    <tr>\n",
       "      <th>520311</th>\n",
       "      <td>559639</td>\n",
       "      <td>B082YMQ8FL</td>\n",
       "      <td>Arctix Boy's Ronan Insulated Winter Jacket Ron...</td>\n",
       "      <td>4.6</td>\n",
       "      <td>50</td>\n",
       "      <td>57.68</td>\n",
       "      <td>False</td>\n",
       "      <td>0</td>\n",
       "      <td>Sports &amp; Outdoors</td>\n",
       "    </tr>\n",
       "    <tr>\n",
       "      <th>1808648</th>\n",
       "      <td>2034234</td>\n",
       "      <td>B09H147J84</td>\n",
       "      <td>Sharplace 200/Pack Disposable Microphone Cover...</td>\n",
       "      <td>0.0</td>\n",
       "      <td>0</td>\n",
       "      <td>12.09</td>\n",
       "      <td>False</td>\n",
       "      <td>0</td>\n",
       "      <td>DJ &amp; VJ Equipment</td>\n",
       "    </tr>\n",
       "    <tr>\n",
       "      <th>798196</th>\n",
       "      <td>859895</td>\n",
       "      <td>B08H7RNBMQ</td>\n",
       "      <td>Personalised Embroidered Name School Book Bag ...</td>\n",
       "      <td>5.0</td>\n",
       "      <td>8</td>\n",
       "      <td>12.99</td>\n",
       "      <td>False</td>\n",
       "      <td>0</td>\n",
       "      <td>School &amp; Educational Supplies</td>\n",
       "    </tr>\n",
       "    <tr>\n",
       "      <th>156894</th>\n",
       "      <td>168893</td>\n",
       "      <td>B09C82B2XN</td>\n",
       "      <td>Golf Bags For Men Left Hand Right Weathersof G...</td>\n",
       "      <td>0.0</td>\n",
       "      <td>0</td>\n",
       "      <td>65.39</td>\n",
       "      <td>False</td>\n",
       "      <td>0</td>\n",
       "      <td>Sports &amp; Outdoors</td>\n",
       "    </tr>\n",
       "    <tr>\n",
       "      <th>2055107</th>\n",
       "      <td>2321098</td>\n",
       "      <td>B0CCQJ3GRV</td>\n",
       "      <td>FOMIYES 3pcs Women's Hair Band Sports Headband...</td>\n",
       "      <td>0.0</td>\n",
       "      <td>0</td>\n",
       "      <td>10.57</td>\n",
       "      <td>False</td>\n",
       "      <td>0</td>\n",
       "      <td>Sports &amp; Outdoors</td>\n",
       "    </tr>\n",
       "    <tr>\n",
       "      <th>800022</th>\n",
       "      <td>862151</td>\n",
       "      <td>B09FPP84K7</td>\n",
       "      <td>wopin Super Mario Backpack Kids School Backpac...</td>\n",
       "      <td>4.7</td>\n",
       "      <td>14</td>\n",
       "      <td>26.99</td>\n",
       "      <td>False</td>\n",
       "      <td>0</td>\n",
       "      <td>School &amp; Educational Supplies</td>\n",
       "    </tr>\n",
       "    <tr>\n",
       "      <th>2223280</th>\n",
       "      <td>2570221</td>\n",
       "      <td>B08THKYZGL</td>\n",
       "      <td>Cute Cloud Night Light Kids,【16 Colors+Remote】...</td>\n",
       "      <td>4.4</td>\n",
       "      <td>2199</td>\n",
       "      <td>13.97</td>\n",
       "      <td>False</td>\n",
       "      <td>1000</td>\n",
       "      <td>Baby</td>\n",
       "    </tr>\n",
       "    <tr>\n",
       "      <th>1215071</th>\n",
       "      <td>1341809</td>\n",
       "      <td>B0B5GXC7J1</td>\n",
       "      <td>GZDD Rubber Cycling Shoes Men Nonslip Outdoor ...</td>\n",
       "      <td>0.0</td>\n",
       "      <td>0</td>\n",
       "      <td>69.99</td>\n",
       "      <td>False</td>\n",
       "      <td>0</td>\n",
       "      <td>Sports &amp; Outdoors</td>\n",
       "    </tr>\n",
       "    <tr>\n",
       "      <th>2417235</th>\n",
       "      <td>2790277</td>\n",
       "      <td>B09LDB86VV</td>\n",
       "      <td>Snow Sled,Kids Winter Sled Toboggan Preium Pla...</td>\n",
       "      <td>0.0</td>\n",
       "      <td>0</td>\n",
       "      <td>3.69</td>\n",
       "      <td>False</td>\n",
       "      <td>0</td>\n",
       "      <td>Snow Sledding Equipment</td>\n",
       "    </tr>\n",
       "  </tbody>\n",
       "</table>\n",
       "</div>"
      ],
      "text/plain": [
       "             uid        asin  \\\n",
       "994977   1101184  B0C2J61LSG   \n",
       "520311    559639  B082YMQ8FL   \n",
       "1808648  2034234  B09H147J84   \n",
       "798196    859895  B08H7RNBMQ   \n",
       "156894    168893  B09C82B2XN   \n",
       "2055107  2321098  B0CCQJ3GRV   \n",
       "800022    862151  B09FPP84K7   \n",
       "2223280  2570221  B08THKYZGL   \n",
       "1215071  1341809  B0B5GXC7J1   \n",
       "2417235  2790277  B09LDB86VV   \n",
       "\n",
       "                                                     title  stars  reviews  \\\n",
       "994977   What if i fall? Oh, but my darling, what if yo...    5.0        1   \n",
       "520311   Arctix Boy's Ronan Insulated Winter Jacket Ron...    4.6       50   \n",
       "1808648  Sharplace 200/Pack Disposable Microphone Cover...    0.0        0   \n",
       "798196   Personalised Embroidered Name School Book Bag ...    5.0        8   \n",
       "156894   Golf Bags For Men Left Hand Right Weathersof G...    0.0        0   \n",
       "2055107  FOMIYES 3pcs Women's Hair Band Sports Headband...    0.0        0   \n",
       "800022   wopin Super Mario Backpack Kids School Backpac...    4.7       14   \n",
       "2223280  Cute Cloud Night Light Kids,【16 Colors+Remote】...    4.4     2199   \n",
       "1215071  GZDD Rubber Cycling Shoes Men Nonslip Outdoor ...    0.0        0   \n",
       "2417235  Snow Sled,Kids Winter Sled Toboggan Preium Pla...    0.0        0   \n",
       "\n",
       "         price  isBestSeller  boughtInLastMonth                       category  \n",
       "994977   10.99         False                  0               Handmade Artwork  \n",
       "520311   57.68         False                  0              Sports & Outdoors  \n",
       "1808648  12.09         False                  0              DJ & VJ Equipment  \n",
       "798196   12.99         False                  0  School & Educational Supplies  \n",
       "156894   65.39         False                  0              Sports & Outdoors  \n",
       "2055107  10.57         False                  0              Sports & Outdoors  \n",
       "800022   26.99         False                  0  School & Educational Supplies  \n",
       "2223280  13.97         False               1000                           Baby  \n",
       "1215071  69.99         False                  0              Sports & Outdoors  \n",
       "2417235   3.69         False                  0        Snow Sledding Equipment  "
      ]
     },
     "execution_count": 14,
     "metadata": {},
     "output_type": "execute_result"
    }
   ],
   "source": [
    "df.sample(10)"
   ]
  },
  {
   "cell_type": "code",
   "execution_count": 15,
   "id": "994b4225",
   "metadata": {},
   "outputs": [
    {
     "name": "stdout",
     "output_type": "stream",
     "text": [
      "<class 'pandas.core.frame.DataFrame'>\n",
      "RangeIndex: 2443651 entries, 0 to 2443650\n",
      "Data columns (total 9 columns):\n",
      " #   Column             Dtype  \n",
      "---  ------             -----  \n",
      " 0   uid                int64  \n",
      " 1   asin               object \n",
      " 2   title              object \n",
      " 3   stars              float64\n",
      " 4   reviews            int64  \n",
      " 5   price              float64\n",
      " 6   isBestSeller       bool   \n",
      " 7   boughtInLastMonth  int64  \n",
      " 8   category           object \n",
      "dtypes: bool(1), float64(2), int64(3), object(3)\n",
      "memory usage: 151.5+ MB\n"
     ]
    }
   ],
   "source": [
    "df.info()"
   ]
  },
  {
   "cell_type": "code",
   "execution_count": 78,
   "id": "175f09b4",
   "metadata": {},
   "outputs": [
    {
     "data": {
      "text/plain": [
       "category\n",
       "Sports & Outdoors                         0.342219\n",
       "Beauty                                    0.007903\n",
       "Handmade Clothing, Shoes & Accessories    0.007869\n",
       "Bath & Body                               0.007813\n",
       "Birthday Gifts                            0.007766\n",
       "Name: proportion, dtype: float64"
      ]
     },
     "execution_count": 78,
     "metadata": {},
     "output_type": "execute_result"
    }
   ],
   "source": [
    "# frequency table\n",
    "\n",
    "proportion_table = df['category'].value_counts(normalize=True)\n",
    "frequency_table = df['category'].value_counts(normalize=True)\n",
    "frequency_table.sort_values(ascending=False).head(5)"
   ]
  },
  {
   "cell_type": "code",
   "execution_count": 113,
   "id": "59856923",
   "metadata": {},
   "outputs": [
    {
     "data": {
      "text/plain": [
       "uid                  0\n",
       "asin                 0\n",
       "title                0\n",
       "stars                0\n",
       "reviews              0\n",
       "price                0\n",
       "isBestSeller         0\n",
       "boughtInLastMonth    0\n",
       "category             0\n",
       "dtype: int64"
      ]
     },
     "execution_count": 113,
     "metadata": {},
     "output_type": "execute_result"
    }
   ],
   "source": [
    "df.isnull().sum().sort_values(ascending=False)"
   ]
  },
  {
   "cell_type": "code",
   "execution_count": 84,
   "id": "15debd29",
   "metadata": {},
   "outputs": [],
   "source": [
    "# create crosstable same as value counts but create datraframne\n",
    "\n",
    "my_cross_table = pd.crosstab(index= df['category'], columns='count').reset_index()\n",
    "my_cross_table.sort_values(by='count', ascending=False, inplace=True)"
   ]
  },
  {
   "cell_type": "code",
   "execution_count": 88,
   "id": "fcb3cb75",
   "metadata": {},
   "outputs": [
    {
     "data": {
      "text/plain": [
       "<Axes: xlabel='category', ylabel='count'>"
      ]
     },
     "execution_count": 88,
     "metadata": {},
     "output_type": "execute_result"
    },
    {
     "data": {
      "image/png": "[encoded data removed]",
      "text/plain": [
       "<Figure size 640x480 with 1 Axes>"
      ]
     },
     "metadata": {},
     "output_type": "display_data"
    }
   ],
   "source": [
    "sns.barplot(x=my_cross_table['category'].iloc[:10], y=my_cross_table['count'].iloc[:10])"
   ]
  },
  {
   "cell_type": "code",
   "execution_count": 92,
   "id": "9bed41b4",
   "metadata": {},
   "outputs": [
    {
     "data": {
      "text/html": [
       "<div>\n",
       "<style scoped>\n",
       "    .dataframe tbody tr th:only-of-type {\n",
       "        vertical-align: middle;\n",
       "    }\n",
       "\n",
       "    .dataframe tbody tr th {\n",
       "        vertical-align: top;\n",
       "    }\n",
       "\n",
       "    .dataframe thead th {\n",
       "        text-align: right;\n",
       "    }\n",
       "</style>\n",
       "<table border=\"1\" class=\"dataframe\">\n",
       "  <thead>\n",
       "    <tr style=\"text-align: right;\">\n",
       "      <th></th>\n",
       "      <th>uid</th>\n",
       "      <th>stars</th>\n",
       "      <th>reviews</th>\n",
       "      <th>price</th>\n",
       "      <th>boughtInLastMonth</th>\n",
       "    </tr>\n",
       "  </thead>\n",
       "  <tbody>\n",
       "    <tr>\n",
       "      <th>count</th>\n",
       "      <td>2.443651e+06</td>\n",
       "      <td>2.443651e+06</td>\n",
       "      <td>2.443651e+06</td>\n",
       "      <td>2.443651e+06</td>\n",
       "      <td>2.443651e+06</td>\n",
       "    </tr>\n",
       "    <tr>\n",
       "      <th>mean</th>\n",
       "      <td>1.370545e+06</td>\n",
       "      <td>2.152836e+00</td>\n",
       "      <td>4.806278e+02</td>\n",
       "      <td>8.924381e+01</td>\n",
       "      <td>2.589699e+01</td>\n",
       "    </tr>\n",
       "    <tr>\n",
       "      <th>std</th>\n",
       "      <td>8.160562e+05</td>\n",
       "      <td>2.194865e+00</td>\n",
       "      <td>5.944124e+03</td>\n",
       "      <td>3.456089e+02</td>\n",
       "      <td>2.404837e+02</td>\n",
       "    </tr>\n",
       "    <tr>\n",
       "      <th>min</th>\n",
       "      <td>1.000000e+00</td>\n",
       "      <td>0.000000e+00</td>\n",
       "      <td>0.000000e+00</td>\n",
       "      <td>0.000000e+00</td>\n",
       "      <td>0.000000e+00</td>\n",
       "    </tr>\n",
       "    <tr>\n",
       "      <th>25%</th>\n",
       "      <td>6.589215e+05</td>\n",
       "      <td>0.000000e+00</td>\n",
       "      <td>0.000000e+00</td>\n",
       "      <td>9.990000e+00</td>\n",
       "      <td>0.000000e+00</td>\n",
       "    </tr>\n",
       "    <tr>\n",
       "      <th>50%</th>\n",
       "      <td>1.349029e+06</td>\n",
       "      <td>0.000000e+00</td>\n",
       "      <td>0.000000e+00</td>\n",
       "      <td>1.909000e+01</td>\n",
       "      <td>0.000000e+00</td>\n",
       "    </tr>\n",
       "    <tr>\n",
       "      <th>75%</th>\n",
       "      <td>2.060686e+06</td>\n",
       "      <td>4.400000e+00</td>\n",
       "      <td>5.900000e+01</td>\n",
       "      <td>4.599000e+01</td>\n",
       "      <td>0.000000e+00</td>\n",
       "    </tr>\n",
       "    <tr>\n",
       "      <th>max</th>\n",
       "      <td>2.828593e+06</td>\n",
       "      <td>5.000000e+00</td>\n",
       "      <td>1.356658e+06</td>\n",
       "      <td>1.000000e+05</td>\n",
       "      <td>5.000000e+04</td>\n",
       "    </tr>\n",
       "  </tbody>\n",
       "</table>\n",
       "</div>"
      ],
      "text/plain": [
       "                uid         stars       reviews         price  \\\n",
       "count  2.443651e+06  2.443651e+06  2.443651e+06  2.443651e+06   \n",
       "mean   1.370545e+06  2.152836e+00  4.806278e+02  8.924381e+01   \n",
       "std    8.160562e+05  2.194865e+00  5.944124e+03  3.456089e+02   \n",
       "min    1.000000e+00  0.000000e+00  0.000000e+00  0.000000e+00   \n",
       "25%    6.589215e+05  0.000000e+00  0.000000e+00  9.990000e+00   \n",
       "50%    1.349029e+06  0.000000e+00  0.000000e+00  1.909000e+01   \n",
       "75%    2.060686e+06  4.400000e+00  5.900000e+01  4.599000e+01   \n",
       "max    2.828593e+06  5.000000e+00  1.356658e+06  1.000000e+05   \n",
       "\n",
       "       boughtInLastMonth  \n",
       "count       2.443651e+06  \n",
       "mean        2.589699e+01  \n",
       "std         2.404837e+02  \n",
       "min         0.000000e+00  \n",
       "25%         0.000000e+00  \n",
       "50%         0.000000e+00  \n",
       "75%         0.000000e+00  \n",
       "max         5.000000e+04  "
      ]
     },
     "execution_count": 92,
     "metadata": {},
     "output_type": "execute_result"
    }
   ],
   "source": [
    "df.describe()"
   ]
  },
  {
   "cell_type": "code",
   "execution_count": 20,
   "id": "3065b0fd",
   "metadata": {},
   "outputs": [],
   "source": [
    "df_price = df[df['price'] != 0]"
   ]
  },
  {
   "cell_type": "code",
   "execution_count": 22,
   "id": "5ad47da5",
   "metadata": {},
   "outputs": [
    {
     "data": {
      "text/plain": [
       "(89.24453985892306,\n",
       " 19.09,\n",
       " 345.61018177054603,\n",
       " 119446.39774346988,\n",
       " 9.99,\n",
       " 0.01,\n",
       " 100000.0,\n",
       " 99999.99)"
      ]
     },
     "execution_count": 22,
     "metadata": {},
     "output_type": "execute_result"
    }
   ],
   "source": [
    "price_mean = df_price['price'].mean()\n",
    "price_median = df_price['price'].median()\n",
    "price_std = df_price['price'].std()\n",
    "price_var = df_price['price'].var()\n",
    "price_mode = df_price['price'].mode()[0]\n",
    "price_min = df_price['price'].min()\n",
    "price_max = df_price['price'].max()\n",
    "price_range = price_max - price_min\n",
    "price_mean, price_median, price_std, price_var, price_mode, price_min, price_max, price_range"
   ]
  },
  {
   "cell_type": "code",
   "execution_count": 24,
   "id": "693373ac",
   "metadata": {},
   "outputs": [
    {
     "data": {
      "text/plain": [
       "0.25     9.99\n",
       "0.50    19.09\n",
       "0.75    45.99\n",
       "Name: price, dtype: float64"
      ]
     },
     "execution_count": 24,
     "metadata": {},
     "output_type": "execute_result"
    }
   ],
   "source": [
    "price_quantile = df_price['price'].quantile([0.25,0.5,0.75])\n",
    "price_quantile"
   ]
  },
  {
   "cell_type": "code",
   "execution_count": 25,
   "id": "150b627f",
   "metadata": {},
   "outputs": [
    {
     "data": {
      "text/plain": [
       "(27.49288136475136, 4241.586073357471)"
      ]
     },
     "execution_count": 25,
     "metadata": {},
     "output_type": "execute_result"
    }
   ],
   "source": [
    "price_skweness = df_price['price'].skew()\n",
    "price_kurtosis = df_price['price'].kurtosis()\n",
    "price_skweness, price_kurtosis"
   ]
  },
  {
   "cell_type": "code",
   "execution_count": 28,
   "id": "00b2a64f",
   "metadata": {},
   "outputs": [
    {
     "data": {
      "text/plain": [
       "<Axes: xlabel='price', ylabel='Count'>"
      ]
     },
     "execution_count": 28,
     "metadata": {},
     "output_type": "execute_result"
    },
    {
     "data": {
      "image/png": "[encoded data removed]",
      "text/plain": [
       "<Figure size 640x480 with 1 Axes>"
      ]
     },
     "metadata": {},
     "output_type": "display_data"
    }
   ],
   "source": [
    "sns.histplot(df_price['price'], bins=30,kde=True, color='salmon')"
   ]
  },
  {
   "cell_type": "code",
   "execution_count": 112,
   "id": "b50bbf6e",
   "metadata": {},
   "outputs": [
    {
     "data": {
      "text/plain": [
       "<Axes: ylabel='price'>"
      ]
     },
     "execution_count": 112,
     "metadata": {},
     "output_type": "execute_result"
    },
    {
     "data": {
      "image/png": "[encoded data removed]",
      "text/plain": [
       "<Figure size 640x480 with 1 Axes>"
      ]
     },
     "metadata": {},
     "output_type": "display_data"
    }
   ],
   "source": [
    "sns.boxplot(data = df['price'], color=\"lightblue\")"
   ]
  },
  {
   "cell_type": "code",
   "execution_count": 10,
   "id": "c69cabe1",
   "metadata": {},
   "outputs": [],
   "source": [
    "df_reviews = df[df['reviews'] != 0]"
   ]
  },
  {
   "cell_type": "code",
   "execution_count": 11,
   "id": "ed83d044",
   "metadata": {},
   "outputs": [
    {
     "data": {
      "text/plain": [
       "(4.31916076222691,\n",
       " 4.4,\n",
       " 0.5552867504614637,\n",
       " 0.3083433752380519,\n",
       " 4.5,\n",
       " 1.0,\n",
       " 5.0,\n",
       " 4.0)"
      ]
     },
     "execution_count": 11,
     "metadata": {},
     "output_type": "execute_result"
    }
   ],
   "source": [
    "stars_mean = df_reviews['stars'].mean()\n",
    "stars_median = df_reviews['stars'].median()\n",
    "stars_std = df_reviews['stars'].std()\n",
    "stars_var = df_reviews['stars'].var()\n",
    "stars_mode = df_reviews['stars'].mode()[0]\n",
    "stars_min = df_reviews['stars'].min()\n",
    "stars_max = df_reviews['stars'].max()\n",
    "stars_range = stars_max - stars_min\n",
    "stars_mean, stars_median, stars_std, stars_var, stars_mode, stars_min, stars_max, stars_range"
   ]
  },
  {
   "cell_type": "code",
   "execution_count": 18,
   "id": "e31207f0",
   "metadata": {},
   "outputs": [
    {
     "data": {
      "text/plain": [
       "(9.78193769066435,\n",
       " -2.3795681122127945,\n",
       " 0.25    4.1\n",
       " 0.50    4.4\n",
       " 0.75    4.6\n",
       " Name: stars, dtype: float64)"
      ]
     },
     "execution_count": 18,
     "metadata": {},
     "output_type": "execute_result"
    }
   ],
   "source": [
    "stars_quantile = df_reviews['stars'].quantile([0.25,0.5,0.75])\n",
    "stars_skewness = df_reviews['stars'].skew()\n",
    "stars_kurtosis = df_reviews['stars'].kurtosis()\n",
    "stars_kurtosis, stars_skewness, stars_quantile"
   ]
  },
  {
   "cell_type": "code",
   "execution_count": 15,
   "id": "95ca053e",
   "metadata": {},
   "outputs": [
    {
     "data": {
      "text/plain": [
       "<Axes: xlabel='stars', ylabel='Count'>"
      ]
     },
     "execution_count": 15,
     "metadata": {},
     "output_type": "execute_result"
    },
    {
     "data": {
      "image/png": "[encoded data removed]",
      "text/plain": [
       "<Figure size 640x480 with 1 Axes>"
      ]
     },
     "metadata": {},
     "output_type": "display_data"
    }
   ],
   "source": [
    "sns.histplot(df_reviews['stars'], kde=True, bins=30, color='salmon')"
   ]
  },
  {
   "cell_type": "code",
   "execution_count": 19,
   "id": "6816b56d",
   "metadata": {},
   "outputs": [
    {
     "data": {
      "text/plain": [
       "<Axes: ylabel='stars'>"
      ]
     },
     "execution_count": 19,
     "metadata": {},
     "output_type": "execute_result"
    },
    {
     "data": {
      "image/png": "[encoded data removed]",
      "text/plain": [
       "<Figure size 640x480 with 1 Axes>"
      ]
     },
     "metadata": {},
     "output_type": "display_data"
    }
   ],
   "source": [
    "sns.boxplot(data=df_reviews['stars'])"
   ]
  }
 ],
 "metadata": {
  "kernelspec": {
   "display_name": "base",
   "language": "python",
   "name": "python3"
  },
  "language_info": {
   "codemirror_mode": {
    "name": "ipython",
    "version": 3
   },
   "file_extension": ".py",
   "mimetype": "text/x-python",
   "name": "python",
   "nbconvert_exporter": "python",
   "pygments_lexer": "ipython3",
   "version": "3.12.7"
  }
 },
 "nbformat": 4,
 "nbformat_minor": 5
}
